{
 "cells": [
  {
   "cell_type": "code",
   "execution_count": 1,
   "metadata": {},
   "outputs": [],
   "source": [
    "import numpy as np #math library  \n",
    "\n",
    "import matplotlib.pyplot as plt #plotting library\n",
    "\n",
    "import scipy.stats as st # library for statistics"
   ]
  },
  {
   "cell_type": "markdown",
   "metadata": {},
   "source": [
    "## Question 1"
   ]
  },
  {
   "cell_type": "code",
   "execution_count": 2,
   "metadata": {},
   "outputs": [],
   "source": [
    "import pandas as pd"
   ]
  },
  {
   "cell_type": "code",
   "execution_count": 3,
   "metadata": {},
   "outputs": [],
   "source": [
    "x = [1, 2, 4, 7, 8]\n",
    "y = [0.30, 0.15, 0.10, 0.08, 0.37]"
   ]
  },
  {
   "cell_type": "code",
   "execution_count": 4,
   "metadata": {},
   "outputs": [],
   "source": [
    "data = pd.DataFrame({'Value' : x,\n",
    "                    'Probability' : y})"
   ]
  },
  {
   "cell_type": "markdown",
   "metadata": {},
   "source": [
    "Plot the pmf (probability mass function)"
   ]
  },
  {
   "cell_type": "code",
   "execution_count": 5,
   "metadata": {},
   "outputs": [
    {
     "data": {
      "text/plain": [
       "<BarContainer object of 5 artists>"
      ]
     },
     "execution_count": 5,
     "metadata": {},
     "output_type": "execute_result"
    },
    {
     "data": {
      "image/png": "[encoded data removed]",
      "text/plain": [
       "<Figure size 936x576 with 1 Axes>"
      ]
     },
     "metadata": {
      "needs_background": "light"
     },
     "output_type": "display_data"
    }
   ],
   "source": [
    "plt.figure(figsize = (13,8))\n",
    "plt.bar(data['Value'], data['Probability'])"
   ]
  },
  {
   "cell_type": "markdown",
   "metadata": {},
   "source": [
    "Plot the cdf (cumulative density function)"
   ]
  },
  {
   "cell_type": "code",
   "execution_count": 6,
   "metadata": {},
   "outputs": [],
   "source": [
    "data['CumSum'] = np.cumsum(np.array(data['Probability']))"
   ]
  },
  {
   "cell_type": "code",
   "execution_count": 7,
   "metadata": {},
   "outputs": [
    {
     "data": {
      "text/plain": [
       "[<matplotlib.lines.Line2D at 0x235e2c3f670>]"
      ]
     },
     "execution_count": 7,
     "metadata": {},
     "output_type": "execute_result"
    },
    {
     "data": {
      "image/png": "[encoded data removed]",
      "text/plain": [
       "<Figure size 936x576 with 1 Axes>"
      ]
     },
     "metadata": {
      "needs_background": "light"
     },
     "output_type": "display_data"
    }
   ],
   "source": [
    "plt.figure(figsize = (13,8))\n",
    "plt.plot(data['Value'], data['CumSum'], drawstyle='steps-post')"
   ]
  },
  {
   "cell_type": "markdown",
   "metadata": {},
   "source": [
    "Compute the mean"
   ]
  },
  {
   "cell_type": "code",
   "execution_count": 8,
   "metadata": {},
   "outputs": [],
   "source": [
    "n = len(data)"
   ]
  },
  {
   "cell_type": "code",
   "execution_count": 9,
   "metadata": {},
   "outputs": [],
   "source": [
    "data['Product'] = data['Value'] * data['Probability']"
   ]
  },
  {
   "cell_type": "code",
   "execution_count": 10,
   "metadata": {},
   "outputs": [
    {
     "name": "stdout",
     "output_type": "stream",
     "text": [
      "The mean is 0.9039999999999999\n"
     ]
    }
   ],
   "source": [
    "mean = np.sum(data['Product'])/n\n",
    "print('The mean is' + ' ' + str(mean))"
   ]
  },
  {
   "cell_type": "markdown",
   "metadata": {},
   "source": [
    "Compute the variance"
   ]
  },
  {
   "cell_type": "code",
   "execution_count": 11,
   "metadata": {},
   "outputs": [],
   "source": [
    "data['mean'] = mean"
   ]
  },
  {
   "cell_type": "code",
   "execution_count": 12,
   "metadata": {},
   "outputs": [],
   "source": [
    "data['variance'] = (data['Value'] - data['mean']) ** 2 * data['Probability']"
   ]
  },
  {
   "cell_type": "code",
   "execution_count": 13,
   "metadata": {},
   "outputs": [],
   "source": [
    "variance = np.sum(data['variance'])/n"
   ]
  },
  {
   "cell_type": "code",
   "execution_count": 14,
   "metadata": {},
   "outputs": [
    {
     "name": "stdout",
     "output_type": "stream",
     "text": [
      "Variance is 4.549011200000001\n"
     ]
    }
   ],
   "source": [
    "print('Variance is' + ' ' + str(variance))"
   ]
  },
  {
   "cell_type": "markdown",
   "metadata": {},
   "source": [
    "Compute the 1st, 2nd, 3rd, 4th moments"
   ]
  },
  {
   "cell_type": "code",
   "execution_count": 15,
   "metadata": {},
   "outputs": [],
   "source": [
    "# 1st moment is the mean\n",
    "\n",
    "# 2nd moment\n",
    "def moment(data, y, col1, col2):\n",
    "    data['Value' + str(y)] = data[col1] ** y\n",
    "    data['Moment' + str(y)] = data['Value' + str(y)] * data[col2]\n",
    "    moment = np.sum(data['Moment' + str(y)])/n\n",
    "    return moment"
   ]
  },
  {
   "cell_type": "code",
   "execution_count": 16,
   "metadata": {},
   "outputs": [
    {
     "name": "stdout",
     "output_type": "stream",
     "text": [
      "0.9039999999999999\n",
      "6.0200000000000005\n",
      "44.956\n",
      "347.18\n"
     ]
    }
   ],
   "source": [
    "print(moment(data, 1, 'Value', 'Probability'))\n",
    "print(moment(data, 2, 'Value', 'Probability'))\n",
    "print(moment(data, 3, 'Value', 'Probability'))\n",
    "print(moment(data, 4, 'Value', 'Probability'))"
   ]
  },
  {
   "cell_type": "code",
   "execution_count": 17,
   "metadata": {},
   "outputs": [],
   "source": [
    "def central_moment(data, y, col1, col2, col3):\n",
    "    data['Value_central' + str(y)] = (data[col1] - data[col3]) ** y\n",
    "    data['Moment_central' + str(y)] = data['Value_central' + str(y)] * data[col2]\n",
    "    moment_central = np.sum(data['Moment_central' + str(y)])/n\n",
    "    return moment_central"
   ]
  },
  {
   "cell_type": "code",
   "execution_count": 18,
   "metadata": {},
   "outputs": [
    {
     "name": "stdout",
     "output_type": "stream",
     "text": [
      "0.7232000000000001\n",
      "4.549011200000001\n",
      "30.698297139199997\n",
      "211.59914635550723\n"
     ]
    }
   ],
   "source": [
    "print(central_moment(data, 1, 'Value', 'Probability', 'mean'))\n",
    "print(central_moment(data, 2, 'Value', 'Probability', 'mean')) #this is the variance\n",
    "print(central_moment(data, 3, 'Value', 'Probability', 'mean'))\n",
    "print(central_moment(data, 4, 'Value', 'Probability', 'mean'))"
   ]
  },
  {
   "cell_type": "markdown",
   "metadata": {},
   "source": [
    "##### What is the skewness coefficient?"
   ]
  },
  {
   "cell_type": "markdown",
   "metadata": {},
   "source": [
    "The coefficient of skewness is a measure of asymmetry in the distribution. A positive skew indicates a longer tail to the right, while a negative skew indicates a longer tail to the left. A perfectly symmetric distribution, like the normal distribution, has a skew equal to zero."
   ]
  },
  {
   "cell_type": "markdown",
   "metadata": {},
   "source": [
    "Compare the pmf and cdf of the theoretical distribution and the generated one."
   ]
  },
  {
   "cell_type": "markdown",
   "metadata": {},
   "source": [
    "### Problem 2"
   ]
  },
  {
   "cell_type": "code",
   "execution_count": 19,
   "metadata": {},
   "outputs": [],
   "source": [
    "# Example for binomial distribution\n",
    "\n",
    "n_b = 10 #number of consecutive trials\n",
    "p_b = 0.6 # probability of success\n",
    "size_b = 1000 # number of experiments run (in our case it shows how many random numbers we want to generate)"
   ]
  },
  {
   "cell_type": "code",
   "execution_count": 20,
   "metadata": {},
   "outputs": [],
   "source": [
    "n_b_1 = 50 #number of consecutive trials\n",
    "p_b_1 = 6/50 # probability of success\n",
    "# size_b = 1000 # number of experiments run (in our case it shows how many random numbers we want to generate)"
   ]
  },
  {
   "cell_type": "code",
   "execution_count": 21,
   "metadata": {},
   "outputs": [],
   "source": [
    "n_b_2 = 100 #number of consecutive trials\n",
    "p_b_2 = 0.06 # probability of success"
   ]
  },
  {
   "cell_type": "code",
   "execution_count": 24,
   "metadata": {},
   "outputs": [],
   "source": [
    "# let's generate numbers from binomial distribution\n",
    "# here you can change the distribution, just google it\n",
    "# for example for normal distribtion you would use - st.norm.rvs(...)\n",
    "data_binom = st.binom.rvs(n = n_b, p = p_b, size = size_b)\n",
    "data_binom_1 = st.binom.rvs(n = n_b_1, p = p_b_1, size = size_b)\n",
    "data_binom_2 = st.binom.rvs(n = n_b_2, p = p_b_2, size = size_b)\n",
    "s = np.random.poisson(6, 1000)"
   ]
  },
  {
   "cell_type": "code",
   "execution_count": 25,
   "metadata": {},
   "outputs": [
    {
     "data": {
      "image/png": "[encoded data removed]",
      "text/plain": [
       "<Figure size 1080x720 with 4 Axes>"
      ]
     },
     "metadata": {
      "needs_background": "light"
     },
     "output_type": "display_data"
    }
   ],
   "source": [
    "figure, axis = plt.subplots(2, 2, figsize=(15,10))\n",
    "\n",
    "# For Binom Function\n",
    "axis[0, 0].hist(data_binom, bins = 50)\n",
    "axis[0, 0].set_title(\"Binom Distribution(n = 10, p = 0.6)\")\n",
    "  \n",
    "# For Binom1 Function\n",
    "axis[0, 1].hist(data_binom_1, bins = 50)\n",
    "axis[0, 1].set_title(\"Binom Distribution(n = 50, p = 6/50)\")\n",
    "  \n",
    "# For Binom2 Function\n",
    "axis[1, 0].hist(data_binom_2, bins = 50)\n",
    "axis[1, 0].set_title(\"Binom Distribution(n = 100, p = 0.06)\")\n",
    "  \n",
    "# For Poisson Function\n",
    "axis[1, 1].hist(s, bins = 50)\n",
    "axis[1, 1].set_title(\"Poisson Distribution Lyambda = 6\")\n",
    "  \n",
    "# Combine all the operations and display\n",
    "\n",
    "plt.show()"
   ]
  },
  {
   "cell_type": "code",
   "execution_count": 26,
   "metadata": {},
   "outputs": [],
   "source": [
    "mean, var, skew, kurt = st.binom.stats(n = n_b, p = p_b, moments='mvsk')\n",
    "mean1, var1, skew1, kurt1 = st.binom.stats(n = n_b_1, p = p_b_1, moments='mvsk')\n",
    "mean2, var2, skew2, kurt2 = st.binom.stats(n = n_b_2, p = p_b_2, moments='mvsk')\n",
    "mean3, var3, skew3, kurt3 = st.poisson.stats(mu = 6, moments='mvsk')"
   ]
  },
  {
   "cell_type": "code",
   "execution_count": 27,
   "metadata": {},
   "outputs": [
    {
     "name": "stdout",
     "output_type": "stream",
     "text": [
      "6.0 ,  2.4000000000000004 ,  -0.12909944487358052 ,  -0.1833333333333333\n",
      "6.0 ,  5.28 ,  0.3307475463158259 ,  0.0693939393939394\n",
      "6.0 ,  5.64 ,  0.3705468452692683 ,  0.11730496453900709\n",
      "6.0 ,  6.0 ,  0.408248290463863 ,  0.16666666666666666\n"
     ]
    }
   ],
   "source": [
    "print(mean, ', ', var, ', ', skew, ', ', kurt)\n",
    "print(mean1, ', ', var1, ', ', skew1, ', ', kurt1)\n",
    "print(mean2, ', ', var2, ', ', skew2, ', ', kurt2)\n",
    "print(mean3, ', ', var3, ', ', skew3, ', ', kurt3)"
   ]
  },
  {
   "cell_type": "markdown",
   "metadata": {},
   "source": [
    "From Comparing the above mentioned 4 different distributions with different parametres, we can see that in case of small sample size the variance is the lowest, but the difference from mean is big. In the other cases the variances is higher but they are close to mean, also skewness and kurtosis are close to each other. The conclusion is that sample size is very important."
   ]
  },
  {
   "cell_type": "markdown",
   "metadata": {},
   "source": [
    "#### Problem 1.8"
   ]
  },
  {
   "cell_type": "code",
   "execution_count": 28,
   "metadata": {},
   "outputs": [],
   "source": [
    "data_new = pd.read_excel('HW4_1.xlsx') #generated data"
   ]
  },
  {
   "cell_type": "code",
   "execution_count": 29,
   "metadata": {},
   "outputs": [],
   "source": [
    "cumSum = data[['CumSum', 'Value']]"
   ]
  },
  {
   "cell_type": "code",
   "execution_count": 30,
   "metadata": {},
   "outputs": [
    {
     "data": {
      "text/html": [
       "<div>\n",
       "<style scoped>\n",
       "    .dataframe tbody tr th:only-of-type {\n",
       "        vertical-align: middle;\n",
       "    }\n",
       "\n",
       "    .dataframe tbody tr th {\n",
       "        vertical-align: top;\n",
       "    }\n",
       "\n",
       "    .dataframe thead th {\n",
       "        text-align: right;\n",
       "    }\n",
       "</style>\n",
       "<table border=\"1\" class=\"dataframe\">\n",
       "  <thead>\n",
       "    <tr style=\"text-align: right;\">\n",
       "      <th></th>\n",
       "      <th>CumSum</th>\n",
       "      <th>Value</th>\n",
       "    </tr>\n",
       "  </thead>\n",
       "  <tbody>\n",
       "    <tr>\n",
       "      <th>0</th>\n",
       "      <td>0.30</td>\n",
       "      <td>1</td>\n",
       "    </tr>\n",
       "    <tr>\n",
       "      <th>1</th>\n",
       "      <td>0.45</td>\n",
       "      <td>2</td>\n",
       "    </tr>\n",
       "    <tr>\n",
       "      <th>2</th>\n",
       "      <td>0.55</td>\n",
       "      <td>4</td>\n",
       "    </tr>\n",
       "    <tr>\n",
       "      <th>3</th>\n",
       "      <td>0.63</td>\n",
       "      <td>7</td>\n",
       "    </tr>\n",
       "    <tr>\n",
       "      <th>4</th>\n",
       "      <td>1.00</td>\n",
       "      <td>8</td>\n",
       "    </tr>\n",
       "  </tbody>\n",
       "</table>\n",
       "</div>"
      ],
      "text/plain": [
       "   CumSum  Value\n",
       "0    0.30      1\n",
       "1    0.45      2\n",
       "2    0.55      4\n",
       "3    0.63      7\n",
       "4    1.00      8"
      ]
     },
     "execution_count": 30,
     "metadata": {},
     "output_type": "execute_result"
    }
   ],
   "source": [
    "cumSum"
   ]
  },
  {
   "cell_type": "code",
   "execution_count": 31,
   "metadata": {},
   "outputs": [],
   "source": [
    "## The conditions for generating numbers using randomly generated numbers from uniform distribution.\n",
    "## If we look at the cmf will understand teh idea of doing this.\n",
    "\n",
    "conditions = [\n",
    "    (data_new['Random number'] < cumSum['CumSum'][0]),\n",
    "    ((data_new['Random number'] >= cumSum['CumSum'][0]) & (data_new['Random number'] < cumSum['CumSum'][1])),\n",
    "    ((data_new['Random number'] >= cumSum['CumSum'][1]) & (data_new['Random number'] < cumSum['CumSum'][2])),\n",
    "    ((data_new['Random number'] >= cumSum['CumSum'][2]) & (data_new['Random number'] < cumSum['CumSum'][3])),\n",
    "    (data_new['Random number'] >= cumSum['CumSum'][3])& (data_new['Random number'] < cumSum['CumSum'][4])\n",
    "    ]"
   ]
  },
  {
   "cell_type": "code",
   "execution_count": 32,
   "metadata": {},
   "outputs": [],
   "source": [
    "values = (cumSum['Value'][0], cumSum['Value'][1], cumSum['Value'][2], cumSum['Value'][3], cumSum['Value'][4])\n",
    "data_new['Our Dist'] = np.select(conditions, values)\n",
    "data_new = data_new[['Random number', 'Our Dist']]"
   ]
  },
  {
   "cell_type": "code",
   "execution_count": 33,
   "metadata": {},
   "outputs": [
    {
     "data": {
      "text/plain": [
       "(array([294., 145.,   0.,   0.,  84.,   0.,   0.,   0.,  88., 388.]),\n",
       " array([1. , 1.7, 2.4, 3.1, 3.8, 4.5, 5.2, 5.9, 6.6, 7.3, 8. ]),\n",
       " <BarContainer object of 10 artists>)"
      ]
     },
     "execution_count": 33,
     "metadata": {},
     "output_type": "execute_result"
    },
    {
     "data": {
      "image/png": "[encoded data removed]",
      "text/plain": [
       "<Figure size 936x576 with 1 Axes>"
      ]
     },
     "metadata": {
      "needs_background": "light"
     },
     "output_type": "display_data"
    }
   ],
   "source": [
    "plt.figure(figsize = (13,8))\n",
    "plt.hist(data_new['Our Dist'])"
   ]
  },
  {
   "cell_type": "markdown",
   "metadata": {},
   "source": [
    "If we compare pmf of the generated and the theoritical distributions we can see that there is no such difference. But lets look at the other statistics"
   ]
  },
  {
   "cell_type": "code",
   "execution_count": 34,
   "metadata": {},
   "outputs": [],
   "source": [
    "gen_dist = pd.pivot_table(data = data_new, index=data_new['Our Dist'], aggfunc = 'count')"
   ]
  },
  {
   "cell_type": "code",
   "execution_count": 35,
   "metadata": {},
   "outputs": [],
   "source": [
    "gen_dist['Prob'] = gen_dist['Random number']/1000"
   ]
  },
  {
   "cell_type": "code",
   "execution_count": 36,
   "metadata": {},
   "outputs": [],
   "source": [
    "gen_dist = gen_dist.reset_index()"
   ]
  },
  {
   "cell_type": "code",
   "execution_count": 37,
   "metadata": {},
   "outputs": [],
   "source": [
    "new = pd.concat([data[['Probability', 'Value']], gen_dist], axis = 1)"
   ]
  },
  {
   "cell_type": "code",
   "execution_count": 39,
   "metadata": {},
   "outputs": [
    {
     "data": {
      "text/html": [
       "<div>\n",
       "<style scoped>\n",
       "    .dataframe tbody tr th:only-of-type {\n",
       "        vertical-align: middle;\n",
       "    }\n",
       "\n",
       "    .dataframe tbody tr th {\n",
       "        vertical-align: top;\n",
       "    }\n",
       "\n",
       "    .dataframe thead th {\n",
       "        text-align: right;\n",
       "    }\n",
       "</style>\n",
       "<table border=\"1\" class=\"dataframe\">\n",
       "  <thead>\n",
       "    <tr style=\"text-align: right;\">\n",
       "      <th></th>\n",
       "      <th>Probability</th>\n",
       "      <th>Value</th>\n",
       "      <th>Our Dist</th>\n",
       "      <th>Random number</th>\n",
       "      <th>Prob</th>\n",
       "    </tr>\n",
       "  </thead>\n",
       "  <tbody>\n",
       "    <tr>\n",
       "      <th>0</th>\n",
       "      <td>0.30</td>\n",
       "      <td>1</td>\n",
       "      <td>1</td>\n",
       "      <td>294</td>\n",
       "      <td>0.294</td>\n",
       "    </tr>\n",
       "    <tr>\n",
       "      <th>1</th>\n",
       "      <td>0.15</td>\n",
       "      <td>2</td>\n",
       "      <td>2</td>\n",
       "      <td>145</td>\n",
       "      <td>0.145</td>\n",
       "    </tr>\n",
       "    <tr>\n",
       "      <th>2</th>\n",
       "      <td>0.10</td>\n",
       "      <td>4</td>\n",
       "      <td>4</td>\n",
       "      <td>84</td>\n",
       "      <td>0.084</td>\n",
       "    </tr>\n",
       "    <tr>\n",
       "      <th>3</th>\n",
       "      <td>0.08</td>\n",
       "      <td>7</td>\n",
       "      <td>7</td>\n",
       "      <td>88</td>\n",
       "      <td>0.088</td>\n",
       "    </tr>\n",
       "    <tr>\n",
       "      <th>4</th>\n",
       "      <td>0.37</td>\n",
       "      <td>8</td>\n",
       "      <td>8</td>\n",
       "      <td>388</td>\n",
       "      <td>0.388</td>\n",
       "    </tr>\n",
       "  </tbody>\n",
       "</table>\n",
       "</div>"
      ],
      "text/plain": [
       "   Probability  Value  Our Dist  Random number   Prob\n",
       "0         0.30      1         1            294  0.294\n",
       "1         0.15      2         2            145  0.145\n",
       "2         0.10      4         4             84  0.084\n",
       "3         0.08      7         7             88  0.088\n",
       "4         0.37      8         8            388  0.388"
      ]
     },
     "execution_count": 39,
     "metadata": {},
     "output_type": "execute_result"
    }
   ],
   "source": [
    "new"
   ]
  },
  {
   "cell_type": "code",
   "execution_count": 41,
   "metadata": {},
   "outputs": [],
   "source": [
    "final = new.drop(['Our Dist', 'Random number'], axis = 'columns')"
   ]
  },
  {
   "cell_type": "code",
   "execution_count": 42,
   "metadata": {},
   "outputs": [],
   "source": [
    "final.columns = ['Th.Probs', 'Value', 'Gen.Probs']"
   ]
  },
  {
   "cell_type": "markdown",
   "metadata": {},
   "source": [
    "#### Statistics for generated sample"
   ]
  },
  {
   "cell_type": "code",
   "execution_count": 43,
   "metadata": {},
   "outputs": [
    {
     "name": "stdout",
     "output_type": "stream",
     "text": [
      "0.9280000000000002\n",
      "6.2724\n",
      "47.134\n",
      "364.9308\n"
     ]
    }
   ],
   "source": [
    "mean = moment(final, 1, 'Value', 'Gen.Probs')\n",
    "final['Gen.mean'] = mean\n",
    "print(mean)\n",
    "print(moment(final, 2, 'Value', 'Gen.Probs'))\n",
    "print(moment(final, 3, 'Value', 'Gen.Probs'))\n",
    "print(moment(final, 4, 'Value', 'Gen.Probs'))"
   ]
  },
  {
   "cell_type": "code",
   "execution_count": 44,
   "metadata": {},
   "outputs": [
    {
     "name": "stdout",
     "output_type": "stream",
     "text": [
      "0.7425856\n",
      "4.7220965632\n",
      "31.909498741350404\n",
      "219.56116285097087\n"
     ]
    }
   ],
   "source": [
    "variance = central_moment(final, 2, 'Value', 'Gen.Probs', 'Gen.mean')\n",
    "print(central_moment(final, 1, 'Value', 'Gen.Probs', 'Gen.mean'))\n",
    "print(central_moment(final, 2, 'Value', 'Gen.Probs', 'Gen.mean'))\n",
    "print(central_moment(final, 3, 'Value', 'Gen.Probs', 'Gen.mean'))\n",
    "print(central_moment(final, 4, 'Value', 'Gen.Probs', 'Gen.mean'))"
   ]
  },
  {
   "cell_type": "markdown",
   "metadata": {},
   "source": [
    "### Statistics for theoritical distribution"
   ]
  },
  {
   "cell_type": "code",
   "execution_count": 45,
   "metadata": {},
   "outputs": [
    {
     "name": "stdout",
     "output_type": "stream",
     "text": [
      "0.9039999999999999\n",
      "6.0200000000000005\n",
      "44.956\n",
      "347.18\n"
     ]
    }
   ],
   "source": [
    "mean_th = moment(final, 1, 'Value', 'Th.Probs')\n",
    "final['Th.mean'] = mean_th\n",
    "print(mean_th)\n",
    "print(moment(final, 2, 'Value', 'Th.Probs'))\n",
    "print(moment(final, 3, 'Value', 'Th.Probs'))\n",
    "print(moment(final, 4, 'Value', 'Th.Probs'))"
   ]
  },
  {
   "cell_type": "code",
   "execution_count": 46,
   "metadata": {},
   "outputs": [
    {
     "name": "stdout",
     "output_type": "stream",
     "text": [
      "0.7232000000000001\n",
      "4.549011200000001\n",
      "30.698297139199997\n",
      "211.59914635550723\n"
     ]
    }
   ],
   "source": [
    "variance = central_moment(final, 2, 'Value', 'Th.Probs', 'Th.mean')\n",
    "print(central_moment(final, 1, 'Value', 'Th.Probs', 'Th.mean'))\n",
    "print(central_moment(final, 2, 'Value', 'Th.Probs', 'Th.mean'))\n",
    "print(central_moment(final, 3, 'Value', 'Th.Probs', 'Th.mean'))\n",
    "print(central_moment(final, 4, 'Value', 'Th.Probs', 'Th.mean'))"
   ]
  },
  {
   "cell_type": "markdown",
   "metadata": {},
   "source": [
    "If we compare the statistics of our 2 distributions we can see that there is minor difference"
   ]
  },
  {
   "cell_type": "code",
   "execution_count": null,
   "metadata": {},
   "outputs": [],
   "source": []
  },
  {
   "cell_type": "code",
   "execution_count": null,
   "metadata": {},
   "outputs": [],
   "source": []
  }
 ],
 "metadata": {
  "kernelspec": {
   "display_name": "Python 3",
   "language": "python",
   "name": "python3"
  },
  "language_info": {
   "codemirror_mode": {
    "name": "ipython",
    "version": 3
   },
   "file_extension": ".py",
   "mimetype": "text/x-python",
   "name": "python",
   "nbconvert_exporter": "python",
   "pygments_lexer": "ipython3",
   "version": "3.8.8"
  }
 },
 "nbformat": 4,
 "nbformat_minor": 4
}
